{
 "cells": [
  {
   "cell_type": "code",
   "execution_count": 1,
   "metadata": {
    "collapsed": false
   },
   "outputs": [
    {
     "name": "stderr",
     "output_type": "stream",
     "text": [
      "2016-03-23 12:35:49,506 [INFO] graphlab.deploy._session, 580: Using session dir: /Users/michael/Documents/dato-dev/local_scripts/../artifacts\n"
     ]
    }
   ],
   "source": [
    "import graphlab as gl\n",
    "import datetime\n",
    "from dateutil import parser as datetime_parser"
   ]
  },
  {
   "cell_type": "markdown",
   "metadata": {},
   "source": [
    "# Load Data"
   ]
  },
  {
   "cell_type": "code",
   "execution_count": 2,
   "metadata": {
    "collapsed": false
   },
   "outputs": [
    {
     "name": "stdout",
     "output_type": "stream",
     "text": [
      "This commercial license of GraphLab Create is assigned to engr@dato.com.\n"
     ]
    },
    {
     "name": "stderr",
     "output_type": "stream",
     "text": [
      "2016-03-23 12:35:51,840 [INFO] graphlab.cython.cy_server, 176: GraphLab Create v1.9 started. Logging: /tmp/graphlab_server_1458761750.log\n"
     ]
    },
    {
     "data": {
      "text/html": [
       "<pre>Finished parsing file /Users/michael/Documents/sample-churn-predictor/dataset/online_retail.csv</pre>"
      ],
      "text/plain": [
       "Finished parsing file /Users/michael/Documents/sample-churn-predictor/dataset/online_retail.csv"
      ]
     },
     "metadata": {},
     "output_type": "display_data"
    },
    {
     "data": {
      "text/html": [
       "<pre>Parsing completed. Parsed 100 lines in 1.33668 secs.</pre>"
      ],
      "text/plain": [
       "Parsing completed. Parsed 100 lines in 1.33668 secs."
      ]
     },
     "metadata": {},
     "output_type": "display_data"
    },
    {
     "name": "stdout",
     "output_type": "stream",
     "text": [
      "------------------------------------------------------\n",
      "Inferred types from first line of file as \n",
      "column_type_hints=[int,str,str,int,str,float,int,str]\n",
      "If parsing fails due to incorrect types, you can correct\n",
      "the inferred type list above and pass it to read_csv in\n",
      "the column_type_hints argument\n",
      "------------------------------------------------------\n"
     ]
    },
    {
     "data": {
      "text/html": [
       "<pre>Finished parsing file /Users/michael/Documents/sample-churn-predictor/dataset/online_retail.csv</pre>"
      ],
      "text/plain": [
       "Finished parsing file /Users/michael/Documents/sample-churn-predictor/dataset/online_retail.csv"
      ]
     },
     "metadata": {},
     "output_type": "display_data"
    },
    {
     "data": {
      "text/html": [
       "<pre>Parsing completed. Parsed 541909 lines in 1.27915 secs.</pre>"
      ],
      "text/plain": [
       "Parsing completed. Parsed 541909 lines in 1.27915 secs."
      ]
     },
     "metadata": {},
     "output_type": "display_data"
    }
   ],
   "source": [
    "# Table of product purchases\n",
    "purchases = gl.SFrame.read_csv('dataset/online_retail.csv')"
   ]
  },
  {
   "cell_type": "markdown",
   "metadata": {},
   "source": [
    "# Prepare Data\n",
    "\n",
    "Convert the datetime strings to Python datetimes and create a GraphLab Create TimeSeries\n",
    "from the `InvoiceDate` column."
   ]
  },
  {
   "cell_type": "code",
   "execution_count": 3,
   "metadata": {
    "collapsed": true
   },
   "outputs": [],
   "source": [
    "# Convert InvoiceDate strings (e.g. \"12/1/10 8:26\") to datetimes\n",
    "purchases['InvoiceDate'] = purchases['InvoiceDate'].apply(datetime_parser.parse)\n",
    "\n",
    "# Create a TimeSeries\n",
    "timeseries = gl.TimeSeries(purchases, 'InvoiceDate')"
   ]
  },
  {
   "cell_type": "markdown",
   "metadata": {},
   "source": [
    "# Train Churn Predictor Model\n",
    "\n",
    "A churn forecast requires a time boundary and a churn period.\n",
    "Activity before the boundary is used to train the model.\n",
    "After the boundary, activity (or lack of activity)\n",
    "during the churn period is used to define whether the\n",
    "user churned."
   ]
  },
  {
   "cell_type": "code",
   "execution_count": 4,
   "metadata": {
    "collapsed": false
   },
   "outputs": [
    {
     "name": "stdout",
     "output_type": "stream",
     "text": [
      "PROGRESS: Grouping observation_data by user.\n",
      "PROGRESS: Resampling grouped observation_data by time-period 1 day, 0:00:00.\n",
      "PROGRESS: Generating features for time-boundary.\n",
      "PROGRESS: --------------------------------------------------\n",
      "PROGRESS: Features for 2011-07-31 17:00:00.\n",
      "PROGRESS: Training a classifier model.\n"
     ]
    },
    {
     "data": {
      "text/html": [
       "<pre>WARNING: Detected extremely low variance for feature(s) 'Quantity||features||7', '__internal__count||7', 'Quantity||features||14', '__internal__count||14', 'Quantity||features||21', '__internal__count||21', 'Quantity||features||60', '__internal__count||60', 'Quantity||features||90', '__internal__count||90' because all entries are nearly the same.\n",
       "Proceeding with model training using all features. If the model does not provide results of adequate quality, exclude the above mentioned feature(s) from the input dataset.</pre>"
      ],
      "text/plain": [
       "WARNING: Detected extremely low variance for feature(s) 'Quantity||features||7', '__internal__count||7', 'Quantity||features||14', '__internal__count||14', 'Quantity||features||21', '__internal__count||21', 'Quantity||features||60', '__internal__count||60', 'Quantity||features||90', '__internal__count||90' because all entries are nearly the same.\n",
       "Proceeding with model training using all features. If the model does not provide results of adequate quality, exclude the above mentioned feature(s) from the input dataset."
      ]
     },
     "metadata": {},
     "output_type": "display_data"
    },
    {
     "data": {
      "text/html": [
       "<pre>Boosted trees classifier:</pre>"
      ],
      "text/plain": [
       "Boosted trees classifier:"
      ]
     },
     "metadata": {},
     "output_type": "display_data"
    },
    {
     "data": {
      "text/html": [
       "<pre>--------------------------------------------------------</pre>"
      ],
      "text/plain": [
       "--------------------------------------------------------"
      ]
     },
     "metadata": {},
     "output_type": "display_data"
    },
    {
     "data": {
      "text/html": [
       "<pre>Number of examples          : 2555</pre>"
      ],
      "text/plain": [
       "Number of examples          : 2555"
      ]
     },
     "metadata": {},
     "output_type": "display_data"
    },
    {
     "data": {
      "text/html": [
       "<pre>Number of classes           : 2</pre>"
      ],
      "text/plain": [
       "Number of classes           : 2"
      ]
     },
     "metadata": {},
     "output_type": "display_data"
    },
    {
     "data": {
      "text/html": [
       "<pre>Number of feature columns   : 10</pre>"
      ],
      "text/plain": [
       "Number of feature columns   : 10"
      ]
     },
     "metadata": {},
     "output_type": "display_data"
    },
    {
     "data": {
      "text/html": [
       "<pre>Number of unpacked features : 280</pre>"
      ],
      "text/plain": [
       "Number of unpacked features : 280"
      ]
     },
     "metadata": {},
     "output_type": "display_data"
    },
    {
     "data": {
      "text/html": [
       "<pre>+-----------+--------------+-------------------+-------------------+</pre>"
      ],
      "text/plain": [
       "+-----------+--------------+-------------------+-------------------+"
      ]
     },
     "metadata": {},
     "output_type": "display_data"
    },
    {
     "data": {
      "text/html": [
       "<pre>| Iteration | Elapsed Time | Training-accuracy | Training-log_loss |</pre>"
      ],
      "text/plain": [
       "| Iteration | Elapsed Time | Training-accuracy | Training-log_loss |"
      ]
     },
     "metadata": {},
     "output_type": "display_data"
    },
    {
     "data": {
      "text/html": [
       "<pre>+-----------+--------------+-------------------+-------------------+</pre>"
      ],
      "text/plain": [
       "+-----------+--------------+-------------------+-------------------+"
      ]
     },
     "metadata": {},
     "output_type": "display_data"
    },
    {
     "data": {
      "text/html": [
       "<pre>| 1         | 0.024225     | 0.843053          | 0.567021          |</pre>"
      ],
      "text/plain": [
       "| 1         | 0.024225     | 0.843053          | 0.567021          |"
      ]
     },
     "metadata": {},
     "output_type": "display_data"
    },
    {
     "data": {
      "text/html": [
       "<pre>| 2         | 0.050693     | 0.849706          | 0.498151          |</pre>"
      ],
      "text/plain": [
       "| 2         | 0.050693     | 0.849706          | 0.498151          |"
      ]
     },
     "metadata": {},
     "output_type": "display_data"
    },
    {
     "data": {
      "text/html": [
       "<pre>| 3         | 0.072549     | 0.852838          | 0.452943          |</pre>"
      ],
      "text/plain": [
       "| 3         | 0.072549     | 0.852838          | 0.452943          |"
      ]
     },
     "metadata": {},
     "output_type": "display_data"
    },
    {
     "data": {
      "text/html": [
       "<pre>| 4         | 0.092030     | 0.858317          | 0.423748          |</pre>"
      ],
      "text/plain": [
       "| 4         | 0.092030     | 0.858317          | 0.423748          |"
      ]
     },
     "metadata": {},
     "output_type": "display_data"
    },
    {
     "data": {
      "text/html": [
       "<pre>| 5         | 0.123094     | 0.864579          | 0.402640          |</pre>"
      ],
      "text/plain": [
       "| 5         | 0.123094     | 0.864579          | 0.402640          |"
      ]
     },
     "metadata": {},
     "output_type": "display_data"
    },
    {
     "data": {
      "text/html": [
       "<pre>| 6         | 0.149360     | 0.864971          | 0.387368          |</pre>"
      ],
      "text/plain": [
       "| 6         | 0.149360     | 0.864971          | 0.387368          |"
      ]
     },
     "metadata": {},
     "output_type": "display_data"
    },
    {
     "data": {
      "text/html": [
       "<pre>+-----------+--------------+-------------------+-------------------+</pre>"
      ],
      "text/plain": [
       "+-----------+--------------+-------------------+-------------------+"
      ]
     },
     "metadata": {},
     "output_type": "display_data"
    },
    {
     "name": "stdout",
     "output_type": "stream",
     "text": [
      "PROGRESS: --------------------------------------------------\n",
      "PROGRESS: Model training complete: Next steps\n",
      "PROGRESS: --------------------------------------------------\n",
      "PROGRESS: (1) Evaluate the model at various timestamps in the past:\n",
      "PROGRESS:       metrics = model.evaluate(data, time_in_past)\n",
      "PROGRESS: (2) Make a churn forecast for a timestamp in the future:\n",
      "PROGRESS:       predictions = model.predict(data, time_in_future)\n"
     ]
    }
   ],
   "source": [
    "# Split the data into train and validation\n",
    "train, valid = gl.churn_predictor.random_split(timeseries, user_id='CustomerID', fraction=0.8, seed = 1)\n",
    "\n",
    "# Train the model using data before August\n",
    "churn_boundary_oct = datetime.datetime(year = 2011, month = 8, day = 1)\n",
    "# Define churn as \"inactive for 30 days after August 1st 2011\"\n",
    "churn_period = datetime.timedelta(days = 30)\n",
    "\n",
    "model = gl.churn_predictor.create(train, user_id='CustomerID',\n",
    "                                  features = ['Quantity'],\n",
    "                                  churn_period = churn_period,\n",
    "                                  time_boundaries = [churn_boundary_oct])"
   ]
  },
  {
   "cell_type": "markdown",
   "metadata": {},
   "source": [
    "# Explore and Evaluate the Model"
   ]
  },
  {
   "cell_type": "code",
   "execution_count": 5,
   "metadata": {
    "collapsed": false,
    "scrolled": false
   },
   "outputs": [
    {
     "name": "stdout",
     "output_type": "stream",
     "text": [
      "PROGRESS: Making a churn forecast for the time window:\n",
      "PROGRESS: --------------------------------------------------\n",
      "PROGRESS:  Start : 2011-08-01 00:00:00\n",
      "PROGRESS:  End   : 2011-08-31 00:00:00\n",
      "PROGRESS: --------------------------------------------------\n",
      "PROGRESS: Grouping dataset by user.\n",
      "PROGRESS: Resampling grouped observation_data by time-period 1 day, 0:00:00.\n",
      "PROGRESS: Generating features for boundary 2011-08-01 00:00:00.\n",
      "PROGRESS: Not enough data to make predictions for 1170 user(s). \n",
      "PROGRESS: Making a churn forecast for the time window:\n",
      "PROGRESS: --------------------------------------------------\n",
      "PROGRESS:  Start : 2011-08-01 00:00:00\n",
      "PROGRESS:  End   : 2011-08-31 00:00:00\n",
      "PROGRESS: --------------------------------------------------\n",
      "PROGRESS: Grouping dataset by user.\n",
      "PROGRESS: Resampling grouped observation_data by time-period 1 day, 0:00:00.\n",
      "PROGRESS: Generating features for boundary 2011-08-01 00:00:00.\n",
      "PROGRESS: Not enough data to make predictions for 254 user(s). \n",
      "PROGRESS: Making a churn forecast for the time window:\n",
      "PROGRESS: --------------------------------------------------\n",
      "PROGRESS:  Start : 2011-08-01 00:00:00\n",
      "PROGRESS:  End   : 2011-08-31 00:00:00\n",
      "PROGRESS: --------------------------------------------------\n",
      "PROGRESS: Grouping dataset by user.\n",
      "PROGRESS: Resampling grouped observation_data by time-period 1 day, 0:00:00.\n",
      "PROGRESS: Generating features for boundary 2011-08-01 00:00:00.\n",
      "PROGRESS: Not enough data to make predictions for 254 user(s). \n"
     ]
    }
   ],
   "source": [
    "# Interactively explore churn predictions\n",
    "view = model.views.overview(exploration_set=timeseries,\n",
    "                            validation_set=valid,\n",
    "                            time_boundary=churn_boundary_oct)\n",
    "view.show()"
   ]
  }
 ],
 "metadata": {
  "kernelspec": {
   "display_name": "Python 2",
   "language": "python",
   "name": "python2"
  },
  "language_info": {
   "codemirror_mode": {
    "name": "ipython",
    "version": 2
   },
   "file_extension": ".py",
   "mimetype": "text/x-python",
   "name": "python",
   "nbconvert_exporter": "python",
   "pygments_lexer": "ipython2",
   "version": "2.7.11"
  }
 },
 "nbformat": 4,
 "nbformat_minor": 0
}
